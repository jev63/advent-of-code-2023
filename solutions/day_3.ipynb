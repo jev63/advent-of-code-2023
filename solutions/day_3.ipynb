{
 "cells": [
  {
   "cell_type": "code",
   "execution_count": 2,
   "id": "e1ff5518",
   "metadata": {},
   "outputs": [],
   "source": [
    "from pathlib import Path\n",
    "\n",
    "def read_input(day):\n",
    "    with open(Path(f'../inputs/adventofcode.com_2023_day_{day}_input.txt'), 'r') as f:\n",
    "        out = [x.strip() for x in f.readlines()]\n",
    "    return out\n",
    "\n",
    "def read_test_input(day, part=1):\n",
    "    with open(Path(f'../inputs/day_{day}_part_{part}_test.txt'), 'r') as f:\n",
    "        out = [x.strip() for x in f.readlines()]\n",
    "    return out\n",
    "              \n",
    "input_ = read_input(3)\n",
    "\n",
    "test_input_1 = read_test_input(3)"
   ]
  },
  {
   "cell_type": "code",
   "execution_count": 28,
   "id": "28332458",
   "metadata": {},
   "outputs": [
    {
     "name": "stdout",
     "output_type": "stream",
     "text": [
      "554003\n"
     ]
    }
   ],
   "source": [
    "def part_1(input_):\n",
    "    not_special = {str(i) for i in range(10)}.union(set('.'))\n",
    "    checked = set()\n",
    "    s = 0\n",
    "    for i in range(len(input_)):\n",
    "        for j in range(len(input_[0])):\n",
    "            elt = input_[i][j]\n",
    "            if elt not in not_special:\n",
    "                o1 = check(input_, (i-1, j-1))\n",
    "                o2 = check(input_, (i-1, j))\n",
    "                o3 = check(input_, (i-1, j+1))\n",
    "                o4 = check(input_, (i, j-1))\n",
    "                o5 = check(input_, (i, j+1))\n",
    "                o6 = check(input_, (i+1, j-1))\n",
    "                o7 = check(input_, (i+1, j))\n",
    "                o8 = check(input_, (i+1, j+1))\n",
    "                \n",
    "                for c, n in (o1, o2, o3, o4, o5, o6, o7, o8):\n",
    "                    if n and c not in checked:\n",
    "                        checked.add(c)\n",
    "                        s += n\n",
    "\n",
    "    return s\n",
    "\n",
    "def check(board, coord):\n",
    "    r, c = coord\n",
    "    number = {str(x) for x in range(10)} \n",
    "    if r == -1:\n",
    "        return None, None\n",
    "    elif r == len(board):\n",
    "        return None, None\n",
    "    elif c == -1:\n",
    "        return None, None\n",
    "    elif c == len(board[0]):\n",
    "        return None, None\n",
    "    elif board[r][c] not in number:\n",
    "        return None, None\n",
    "    else:\n",
    "        leftmost = c\n",
    "        rightmost = c\n",
    "        while leftmost >= 0 and board[r][leftmost] in number:\n",
    "            leftmost-=1\n",
    "        while rightmost < len(board[0]) and board[r][rightmost] in number:\n",
    "            rightmost+=1\n",
    "        return (r, leftmost), int(board[r][leftmost+1:rightmost])\n",
    "                    \n",
    "            \n",
    "print(part_1(input_))"
   ]
  },
  {
   "cell_type": "code",
   "execution_count": 43,
   "id": "81ed2a0e",
   "metadata": {},
   "outputs": [
    {
     "name": "stdout",
     "output_type": "stream",
     "text": [
      "87263515\n"
     ]
    }
   ],
   "source": [
    "def part_2(input_):\n",
    "    checked = set()\n",
    "    s = 0\n",
    "    for i in range(len(input_)):\n",
    "        for j in range(len(input_[0])):\n",
    "            elt = input_[i][j]\n",
    "            if elt == '*':\n",
    "                o1 = check(input_, (i-1, j-1))\n",
    "                o2 = check(input_, (i-1, j))\n",
    "                o3 = check(input_, (i-1, j+1))\n",
    "                o4 = check(input_, (i, j-1))\n",
    "                o5 = check(input_, (i, j+1))\n",
    "                o6 = check(input_, (i+1, j-1))\n",
    "                o7 = check(input_, (i+1, j))\n",
    "                o8 = check(input_, (i+1, j+1))\n",
    "                \n",
    "                outputs = (o1,o2,o3,o4,o5,o6,o7,o8)\n",
    "                adjacencies = set()\n",
    "                numbers = set()\n",
    "                for c, n in outputs:\n",
    "                    if c and c not in adjacencies:\n",
    "                        adjacencies.add(c)\n",
    "                        numbers.add(n)\n",
    "                if len(adjacencies) == 2:\n",
    "                    prod = 1\n",
    "                    for n in numbers:\n",
    "                        prod *= n\n",
    "                    s += prod\n",
    "    return s\n",
    "\n",
    "def check(board, coord):\n",
    "    r, c = coord\n",
    "    number = {str(x) for x in range(10)} \n",
    "    if r == -1:\n",
    "        return None, None\n",
    "    elif r == len(board):\n",
    "        return None, None\n",
    "    elif c == -1:\n",
    "        return None, None\n",
    "    elif c == len(board[0]):\n",
    "        return None, None\n",
    "    elif board[r][c] not in number:\n",
    "        return None, None\n",
    "    else:\n",
    "        leftmost = c\n",
    "        rightmost = c\n",
    "        while leftmost >= 0 and board[r][leftmost] in number:\n",
    "            leftmost-=1\n",
    "        while rightmost < len(board[0]) and board[r][rightmost] in number:\n",
    "            rightmost+=1\n",
    "        return (r, leftmost), int(board[r][leftmost+1:rightmost])\n",
    "    \n",
    "print(part_2(input_))"
   ]
  },
  {
   "cell_type": "code",
   "execution_count": null,
   "id": "fcfbd7d4",
   "metadata": {},
   "outputs": [],
   "source": []
  }
 ],
 "metadata": {
  "kernelspec": {
   "display_name": "Python 3 (ipykernel)",
   "language": "python",
   "name": "python3"
  },
  "language_info": {
   "codemirror_mode": {
    "name": "ipython",
    "version": 3
   },
   "file_extension": ".py",
   "mimetype": "text/x-python",
   "name": "python",
   "nbconvert_exporter": "python",
   "pygments_lexer": "ipython3",
   "version": "3.7.0"
  }
 },
 "nbformat": 4,
 "nbformat_minor": 5
}
