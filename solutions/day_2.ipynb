{
 "cells": [
  {
   "cell_type": "code",
   "execution_count": 1,
   "id": "115fb2a4",
   "metadata": {},
   "outputs": [],
   "source": [
    "from pathlib import Path\n",
    "\n",
    "def read_input(day):\n",
    "    with open(Path(f'../inputs/adventofcode.com_2023_day_{day}_input.txt'), 'r') as f:\n",
    "        out = [x.strip() for x in f.readlines()]\n",
    "    return out\n",
    "\n",
    "def read_test_input(day, part=1):\n",
    "    with open(Path(f'../inputs/day_{day}_part_{part}_test.txt'), 'r') as f:\n",
    "        out = [x.strip() for x in f.readlines()]\n",
    "    return out\n",
    "              \n",
    "input_ = read_input(2)\n",
    "\n",
    "test_input_1 = read_test_input(2)"
   ]
  },
  {
   "cell_type": "code",
   "execution_count": 6,
   "id": "8419a470",
   "metadata": {},
   "outputs": [
    {
     "data": {
      "text/plain": [
       "2476"
      ]
     },
     "execution_count": 6,
     "metadata": {},
     "output_type": "execute_result"
    }
   ],
   "source": [
    "def part_one(input_):\n",
    "    goal = {'red': 12, 'green': 13, 'blue': 14}\n",
    "    c = 0\n",
    "    for game in input_:\n",
    "        shown = {'red': 0, 'green': 0, 'blue': 0}\n",
    "        game_id, game = game.split(': ')\n",
    "        _, game_number = game_id.split(' ')\n",
    "        for show in game.split('; '):\n",
    "            balls = show.split(', ')\n",
    "            for b in balls:\n",
    "                num, color = b.split(' ')\n",
    "                shown[color] = max(int(num), shown[color])\n",
    "        is_chill = all(shown[k] <= goal[k] for k in goal.keys())\n",
    "        if is_chill:\n",
    "            c+=int(game_number)\n",
    "            \n",
    "    return c\n",
    "\n",
    "part_one(input_)\n",
    "                "
   ]
  },
  {
   "cell_type": "code",
   "execution_count": 8,
   "id": "2b8067ec",
   "metadata": {},
   "outputs": [
    {
     "data": {
      "text/plain": [
       "54911"
      ]
     },
     "execution_count": 8,
     "metadata": {},
     "output_type": "execute_result"
    }
   ],
   "source": [
    "def part_two(input_):\n",
    "    c = 0\n",
    "    for game in input_:\n",
    "        shown = {'red': 0, 'green': 0, 'blue': 0}\n",
    "        game_id, game = game.split(': ')\n",
    "        _, game_number = game_id.split(' ')\n",
    "        for show in game.split('; '):\n",
    "            balls = show.split(', ')\n",
    "            for b in balls:\n",
    "                num, color = b.split(' ')\n",
    "                shown[color] = max(int(num), shown[color])\n",
    "        power = 1\n",
    "        for val in shown.values():\n",
    "            power *= val\n",
    "            \n",
    "        c += power\n",
    "            \n",
    "    return c\n",
    "\n",
    "part_two(input_)"
   ]
  },
  {
   "cell_type": "code",
   "execution_count": null,
   "id": "af4f36b3",
   "metadata": {},
   "outputs": [],
   "source": []
  }
 ],
 "metadata": {
  "kernelspec": {
   "display_name": "Python 3 (ipykernel)",
   "language": "python",
   "name": "python3"
  },
  "language_info": {
   "codemirror_mode": {
    "name": "ipython",
    "version": 3
   },
   "file_extension": ".py",
   "mimetype": "text/x-python",
   "name": "python",
   "nbconvert_exporter": "python",
   "pygments_lexer": "ipython3",
   "version": "3.7.0"
  }
 },
 "nbformat": 4,
 "nbformat_minor": 5
}
