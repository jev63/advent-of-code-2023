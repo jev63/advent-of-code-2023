{
 "cells": [
  {
   "cell_type": "code",
   "execution_count": 37,
   "id": "3672813d",
   "metadata": {},
   "outputs": [],
   "source": [
    "from pathlib import Path\n",
    "\n",
    "def read_input(day):\n",
    "    with open(Path(f'../inputs/adventofcode.com_2023_day_{day}_input.txt'), 'r') as f:\n",
    "        out = [x.strip() for x in f.readlines()]\n",
    "    return out\n",
    "\n",
    "def read_test_input(day, part=1):\n",
    "    with open(Path(f'../inputs/day_{day}_part_{part}_test.txt'), 'r') as f:\n",
    "        out = [x.strip() for x in f.readlines()]\n",
    "    return out\n",
    "              \n",
    "input_ = read_input(1)\n",
    "\n",
    "test_input_1 = read_test_input(1)\n",
    "test_input_2 = read_test_input(1, part=2)"
   ]
  },
  {
   "cell_type": "code",
   "execution_count": 35,
   "id": "4071ce44",
   "metadata": {},
   "outputs": [
    {
     "name": "stdout",
     "output_type": "stream",
     "text": [
      "54561\n"
     ]
    }
   ],
   "source": [
    "def part_one(input_):\n",
    "    s = 0\n",
    "    digits = {str(n) for n in range(10)}\n",
    "    for line in input_:\n",
    "        for elt in line:\n",
    "            if elt in digits:\n",
    "                d1 = elt\n",
    "                break\n",
    "        for elt in reversed(line):\n",
    "            if elt in digits:\n",
    "                d2 = elt\n",
    "                break\n",
    "        num = int(d1 + d2)\n",
    "        s += num\n",
    "    return s\n",
    "\n",
    "print(part_one(input_))\n",
    "                \n",
    "        "
   ]
  },
  {
   "cell_type": "code",
   "execution_count": 61,
   "id": "c1d34eec",
   "metadata": {},
   "outputs": [
    {
     "name": "stdout",
     "output_type": "stream",
     "text": [
      "54076\n"
     ]
    }
   ],
   "source": [
    "def part_two(input_):\n",
    "    s = 0\n",
    "    digits = {str(n) for n in range(10)}\n",
    "    spelled = {'one': 1, 'two': 2, 'three': 3, 'four': 4, 'five': 5, 'six': 6, 'seven': 7, 'eight': 8, 'nine': 9}\n",
    "    spelled_backwards = {\n",
    "        'eno': 1,\n",
    "        'owt': 2,\n",
    "        'eerht': 3,\n",
    "        'ruof': 4,\n",
    "        'evif': 5,\n",
    "        'xis': 6,\n",
    "        'neves': 7,\n",
    "        'thgie': 8,\n",
    "        'enin': 9\n",
    "    }\n",
    "    for line in input_:\n",
    "        for i in range(len(line)):\n",
    "            if line[i] in digits:\n",
    "                d1 = line[i]\n",
    "                break\n",
    "            else:\n",
    "                out = False\n",
    "                for digit in spelled:\n",
    "                    length = len(digit)\n",
    "                    if line[i:i+length] == digit:\n",
    "                        d1 = str(spelled[digit])\n",
    "                        out = True\n",
    "                        break\n",
    "                if out:\n",
    "                    break\n",
    "\n",
    "        line = list(reversed(line))\n",
    "        for i in range(len(line)):\n",
    "            if line[i] in digits:\n",
    "                d2 = line[i]\n",
    "                break\n",
    "            else:\n",
    "                out = False\n",
    "                for digit in spelled_backwards:\n",
    "                    length = len(digit)\n",
    "                    if ''.join(line[i:i+length]) == digit:\n",
    "                        d2 = str(spelled_backwards[digit])\n",
    "                        out = True\n",
    "                        break\n",
    "                if out:\n",
    "                    break\n",
    "                    \n",
    "        num = int(d1+d2)\n",
    "        s+=num\n",
    "    return s\n",
    "                        \n",
    "print(part_two(input_))\n",
    "                "
   ]
  },
  {
   "cell_type": "code",
   "execution_count": null,
   "id": "7c6355bb",
   "metadata": {},
   "outputs": [],
   "source": []
  }
 ],
 "metadata": {
  "kernelspec": {
   "display_name": "Python 3 (ipykernel)",
   "language": "python",
   "name": "python3"
  },
  "language_info": {
   "codemirror_mode": {
    "name": "ipython",
    "version": 3
   },
   "file_extension": ".py",
   "mimetype": "text/x-python",
   "name": "python",
   "nbconvert_exporter": "python",
   "pygments_lexer": "ipython3",
   "version": "3.7.0"
  }
 },
 "nbformat": 4,
 "nbformat_minor": 5
}
